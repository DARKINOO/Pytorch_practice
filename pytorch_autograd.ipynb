{
  "nbformat": 4,
  "nbformat_minor": 0,
  "metadata": {
    "colab": {
      "provenance": [],
      "gpuType": "T4",
      "authorship_tag": "ABX9TyMs2thiMkg8t0/HmqoZLjT6",
      "include_colab_link": true
    },
    "kernelspec": {
      "name": "python3",
      "display_name": "Python 3"
    },
    "language_info": {
      "name": "python"
    },
    "accelerator": "GPU"
  },
  "cells": [
    {
      "cell_type": "markdown",
      "metadata": {
        "id": "view-in-github",
        "colab_type": "text"
      },
      "source": [
        "<a href=\"https://colab.research.google.com/github/DARKINOO/Pytorch_practice/blob/main/pytorch_autograd.ipynb\" target=\"_parent\"><img src=\"https://colab.research.google.com/assets/colab-badge.svg\" alt=\"Open In Colab\"/></a>"
      ]
    },
    {
      "cell_type": "markdown",
      "metadata": {
        "id": "7910daf8"
      },
      "source": [
        "This notebook demonstrates PyTorch's autograd feature, which automatically calculates gradients."
      ]
    },
    {
      "cell_type": "code",
      "metadata": {
        "id": "79faf055"
      },
      "source": [
        "import torch\n",
        "# Imports the torch library"
      ],
      "execution_count": 18,
      "outputs": []
    },
    {
      "cell_type": "markdown",
      "metadata": {
        "id": "08dd4d4d"
      },
      "source": [
        "First, we create a tensor `x` with `requires_grad=True`. This tells PyTorch to track computations involving this tensor so that gradients can be calculated later."
      ]
    },
    {
      "cell_type": "code",
      "metadata": {
        "id": "7a56d468"
      },
      "source": [
        "x = torch.tensor(3.0, requires_grad=True) # if we want derivative of any tensor, we write requiregrad=True\n",
        "# Creates a tensor with a value of 3.0 and enables gradient tracking"
      ],
      "execution_count": 19,
      "outputs": []
    },
    {
      "cell_type": "markdown",
      "metadata": {
        "id": "ef70b9ce"
      },
      "source": [
        "Next, we define a new tensor `y` as a function of `x` (`y = x^2`). PyTorch builds a computation graph to track this operation."
      ]
    },
    {
      "cell_type": "code",
      "metadata": {
        "colab": {
          "base_uri": "https://localhost:8080/"
        },
        "id": "1808372d",
        "outputId": "b812f946-e3f0-468b-db82-0012ca16bc94"
      },
      "source": [
        "y = x**2\n",
        "# Defines y as x squared. PyTorch records this operation in the computation graph.\n",
        "print(x)\n",
        "print(y)\n",
        "# Prints the value of x and y"
      ],
      "execution_count": 20,
      "outputs": [
        {
          "output_type": "stream",
          "name": "stdout",
          "text": [
            "tensor(3., requires_grad=True)\n",
            "tensor(9., grad_fn=<PowBackward0>)\n"
          ]
        }
      ]
    },
    {
      "cell_type": "markdown",
      "metadata": {
        "id": "2b2486e1"
      },
      "source": [
        "Now, we call `y.backward()`. This is the core of autograd. It computes the gradients of `y` with respect to all tensors that have `requires_grad=True` in the computation graph (in this case, just `x`). The gradient is accumulated in the `.grad` attribute of the respective tensors."
      ]
    },
    {
      "cell_type": "code",
      "metadata": {
        "id": "9157e259"
      },
      "source": [
        "y.backward() #calc gradients automatically\n",
        "# Computes the gradient of y with respect to x and stores it in x.grad"
      ],
      "execution_count": 21,
      "outputs": []
    },
    {
      "cell_type": "markdown",
      "metadata": {
        "id": "06cffcb0"
      },
      "source": [
        "Finally, we access `x.grad` to see the computed gradient. Since y = x^2, the derivative dy/dx is 2x. With x = 3, the gradient is 2 * 3 = 6."
      ]
    },
    {
      "cell_type": "code",
      "metadata": {
        "colab": {
          "base_uri": "https://localhost:8080/"
        },
        "id": "567b4130",
        "outputId": "d0ff6b61-c10a-4c94-c067-cfbbd1586d47"
      },
      "source": [
        "x.grad\n",
        "# Displays the computed gradient of x"
      ],
      "execution_count": 22,
      "outputs": [
        {
          "output_type": "execute_result",
          "data": {
            "text/plain": [
              "tensor(6.)"
            ]
          },
          "metadata": {},
          "execution_count": 22
        }
      ]
    },
    {
      "cell_type": "markdown",
      "source": [
        "###Computation of perceptron using autograd"
      ],
      "metadata": {
        "id": "TB6byEXpS5wn"
      }
    },
    {
      "cell_type": "code",
      "source": [
        "x = torch.tensor(6.7) #Input feature\n",
        "y = torch.tensor(0.0) #True label (binary)\n",
        "\n",
        "w = torch.tensor(1.0, requires_grad=True)\n",
        "b = torch.tensor(0.0, requires_grad=True)"
      ],
      "metadata": {
        "id": "fCTMqrU8SqPA"
      },
      "execution_count": 25,
      "outputs": []
    },
    {
      "cell_type": "code",
      "source": [
        "w"
      ],
      "metadata": {
        "colab": {
          "base_uri": "https://localhost:8080/"
        },
        "id": "wOStkPjKT184",
        "outputId": "ffc2e43d-f354-43b5-b191-68908763a0b1"
      },
      "execution_count": 26,
      "outputs": [
        {
          "output_type": "execute_result",
          "data": {
            "text/plain": [
              "tensor(1., requires_grad=True)"
            ]
          },
          "metadata": {},
          "execution_count": 26
        }
      ]
    },
    {
      "cell_type": "code",
      "source": [
        "b"
      ],
      "metadata": {
        "colab": {
          "base_uri": "https://localhost:8080/"
        },
        "id": "jxs8cK92T3GH",
        "outputId": "f0daeaec-5ee6-46a0-e278-d36c637c2e96"
      },
      "execution_count": 27,
      "outputs": [
        {
          "output_type": "execute_result",
          "data": {
            "text/plain": [
              "tensor(0., requires_grad=True)"
            ]
          },
          "metadata": {},
          "execution_count": 27
        }
      ]
    },
    {
      "cell_type": "code",
      "source": [
        "#Binary Cross-Entropy Loss for scaler\n",
        "def binary_cross_entropy_loss(prediction,target):\n",
        "  epsilon = 1e-8 #to prevent log(0)\n",
        "  prediction = torch.clamp(prediction, epsilon, 1-epsilon)\n",
        "  loss = -(target*torch.log(prediction) + (1-target)*torch.log(1-prediction))\n",
        "  return loss"
      ],
      "metadata": {
        "id": "TJCwb08fUdzz"
      },
      "execution_count": 30,
      "outputs": []
    },
    {
      "cell_type": "code",
      "source": [
        "z = w*x + b\n",
        "z"
      ],
      "metadata": {
        "colab": {
          "base_uri": "https://localhost:8080/"
        },
        "id": "G8WhBYtYT4Bw",
        "outputId": "0cd9b4f7-d6ab-4efa-a542-320cf10096b6"
      },
      "execution_count": 31,
      "outputs": [
        {
          "output_type": "execute_result",
          "data": {
            "text/plain": [
              "tensor(6.7000, grad_fn=<AddBackward0>)"
            ]
          },
          "metadata": {},
          "execution_count": 31
        }
      ]
    },
    {
      "cell_type": "code",
      "source": [
        "y_pred = torch.sigmoid(z)\n",
        "y_pred"
      ],
      "metadata": {
        "colab": {
          "base_uri": "https://localhost:8080/"
        },
        "id": "HBGA30ulUDlA",
        "outputId": "ca27c448-0819-4222-b5fa-1a4ded6f7796"
      },
      "execution_count": 32,
      "outputs": [
        {
          "output_type": "execute_result",
          "data": {
            "text/plain": [
              "tensor(0.9988, grad_fn=<SigmoidBackward0>)"
            ]
          },
          "metadata": {},
          "execution_count": 32
        }
      ]
    },
    {
      "cell_type": "code",
      "source": [
        "loss = binary_cross_entropy_loss(y_pred,y)\n",
        "loss"
      ],
      "metadata": {
        "colab": {
          "base_uri": "https://localhost:8080/"
        },
        "id": "0sqYUSnsUJno",
        "outputId": "25544b86-95c4-4511-ec05-26e287492c45"
      },
      "execution_count": 33,
      "outputs": [
        {
          "output_type": "execute_result",
          "data": {
            "text/plain": [
              "tensor(6.7012, grad_fn=<NegBackward0>)"
            ]
          },
          "metadata": {},
          "execution_count": 33
        }
      ]
    },
    {
      "cell_type": "code",
      "source": [
        "loss.backward()"
      ],
      "metadata": {
        "id": "PFkjC8qCWI4M"
      },
      "execution_count": 34,
      "outputs": []
    },
    {
      "cell_type": "code",
      "source": [
        "print(w.grad)\n",
        "print(b.grad)"
      ],
      "metadata": {
        "colab": {
          "base_uri": "https://localhost:8080/"
        },
        "id": "uZ4_4uzMWR06",
        "outputId": "60d11f89-1b32-4340-9834-677ceeb861ed"
      },
      "execution_count": 35,
      "outputs": [
        {
          "output_type": "stream",
          "name": "stdout",
          "text": [
            "tensor(6.6918)\n",
            "tensor(0.9988)\n"
          ]
        }
      ]
    },
    {
      "cell_type": "markdown",
      "source": [
        "###Autograd on Vectors"
      ],
      "metadata": {
        "id": "uxIMXD5LWhR5"
      }
    },
    {
      "cell_type": "code",
      "source": [
        "x = torch.tensor([1.0,2.0,3.0], requires_grad=True)\n",
        "x"
      ],
      "metadata": {
        "colab": {
          "base_uri": "https://localhost:8080/"
        },
        "id": "rzO6Lx7WWU5R",
        "outputId": "dac46d08-54eb-465c-a7cd-6d5bab7996f4"
      },
      "execution_count": 36,
      "outputs": [
        {
          "output_type": "execute_result",
          "data": {
            "text/plain": [
              "tensor([1., 2., 3.], requires_grad=True)"
            ]
          },
          "metadata": {},
          "execution_count": 36
        }
      ]
    },
    {
      "cell_type": "code",
      "source": [
        "y = (x**2).mean()\n",
        "y"
      ],
      "metadata": {
        "colab": {
          "base_uri": "https://localhost:8080/"
        },
        "id": "qJyFAwD0WvnY",
        "outputId": "b126394b-d40a-4426-912f-47cbf4f25866"
      },
      "execution_count": 37,
      "outputs": [
        {
          "output_type": "execute_result",
          "data": {
            "text/plain": [
              "tensor(4.6667, grad_fn=<MeanBackward0>)"
            ]
          },
          "metadata": {},
          "execution_count": 37
        }
      ]
    },
    {
      "cell_type": "code",
      "source": [
        "y.backward()"
      ],
      "metadata": {
        "id": "F0vyGOzKWzV4"
      },
      "execution_count": 38,
      "outputs": []
    },
    {
      "cell_type": "code",
      "source": [
        "x.grad"
      ],
      "metadata": {
        "colab": {
          "base_uri": "https://localhost:8080/"
        },
        "id": "-GuLgyY0W2ZI",
        "outputId": "8f646cf5-9d78-4c41-dfcb-e9f4574ce661"
      },
      "execution_count": 39,
      "outputs": [
        {
          "output_type": "execute_result",
          "data": {
            "text/plain": [
              "tensor([0.6667, 1.3333, 2.0000])"
            ]
          },
          "metadata": {},
          "execution_count": 39
        }
      ]
    },
    {
      "cell_type": "markdown",
      "source": [
        "####clearning gradients"
      ],
      "metadata": {
        "id": "j8Ux9H8TXMpJ"
      }
    },
    {
      "cell_type": "code",
      "source": [
        "\n",
        "# when we run again y.backward(), it stores gradients , they dont erase automatically\n",
        "# so we have to clear prev gradients in multiple passes\n",
        "x.grad.zero_()"
      ],
      "metadata": {
        "colab": {
          "base_uri": "https://localhost:8080/"
        },
        "id": "Rs68fx93XQWP",
        "outputId": "b219ebc6-c4b8-4efb-894b-152dbddd36a6"
      },
      "execution_count": 41,
      "outputs": [
        {
          "output_type": "execute_result",
          "data": {
            "text/plain": [
              "tensor([0., 0., 0.])"
            ]
          },
          "metadata": {},
          "execution_count": 41
        }
      ]
    },
    {
      "cell_type": "code",
      "source": [
        "# disable gradient tracking"
      ],
      "metadata": {
        "id": "7RrLtJRWXb4i"
      },
      "execution_count": null,
      "outputs": []
    },
    {
      "cell_type": "markdown",
      "metadata": {
        "id": "11b18fe5"
      },
      "source": [
        "### Disabling Gradient Tracking\n",
        "\n",
        "Disable gradient tracking for efficiency during inference or when not needed. Three methods:"
      ]
    },
    {
      "cell_type": "markdown",
      "metadata": {
        "id": "69df15ee"
      },
      "source": [
        "#### 1. Setting `requires_grad=False`\n",
        "\n",
        "Set `requires_grad` to `False` when creating a tensor or for an existing one."
      ]
    },
    {
      "cell_type": "code",
      "metadata": {
        "colab": {
          "base_uri": "https://localhost:8080/"
        },
        "id": "47396102-29a7-4a39-9a0b-d91b1f2a11e7",
        "outputId": "0919f092-bff2-4ea4-e89a-27ca82c6bbca"
      },
      "source": [
        "# Method 1: requires_grad=False\n",
        "\n",
        "x = torch.tensor([1., 2., 3.], requires_grad=True)\n",
        "x_no_grad = torch.tensor([4., 5., 6.], requires_grad=False)\n",
        "print(f'{x.requires_grad=}')\n",
        "print(f'{x_no_grad.requires_grad=}')\n",
        "\n",
        "x.requires_grad_(False)\n",
        "print(f'{x.requires_grad=}')"
      ],
      "execution_count": 42,
      "outputs": [
        {
          "output_type": "stream",
          "name": "stdout",
          "text": [
            "x.requires_grad=True\n",
            "x_no_grad.requires_grad=False\n",
            "x.requires_grad=False\n"
          ]
        }
      ]
    },
    {
      "cell_type": "markdown",
      "metadata": {
        "id": "fd24cebe"
      },
      "source": [
        "#### 2. Using `.detach()`\n",
        "\n",
        "Create a new tensor detached from the graph. Original tensor still tracks gradients."
      ]
    },
    {
      "cell_type": "code",
      "metadata": {
        "colab": {
          "base_uri": "https://localhost:8080/"
        },
        "id": "60881c70-742b-4a64-b77e-a7e5433d1137",
        "outputId": "a9f0fcee-8be9-49a2-f436-ed237f341494"
      },
      "source": [
        "# Method 2: .detach()\n",
        "\n",
        "x = torch.tensor([1., 2., 3.], requires_grad=True)\n",
        "x_detached = x.detach()\n",
        "print(f'{x.requires_grad=}')\n",
        "print(f'{x_detached.requires_grad=}')"
      ],
      "execution_count": 43,
      "outputs": [
        {
          "output_type": "stream",
          "name": "stdout",
          "text": [
            "x.requires_grad=True\n",
            "x_detached.requires_grad=False\n"
          ]
        }
      ]
    },
    {
      "cell_type": "markdown",
      "metadata": {
        "id": "3d1a469b"
      },
      "source": [
        "#### 3. Using `torch.no_grad()`\n",
        "\n",
        "Context manager to disable gradient tracking for a block of code."
      ]
    },
    {
      "cell_type": "code",
      "metadata": {
        "colab": {
          "base_uri": "https://localhost:8080/"
        },
        "id": "2c62032c-e688-4302-b78c-f0330a378e30",
        "outputId": "0ffc353e-a479-4f57-d985-8ec66d84cca4"
      },
      "source": [
        "# Method 3: torch.no_grad()\n",
        "\n",
        "x = torch.tensor([1., 2., 3.], requires_grad=True)\n",
        "with torch.no_grad():\n",
        "    y = (x**2).mean()\n",
        "    print(f'{y.requires_grad=}')\n",
        "\n",
        "y_outside = (x**3).mean()\n",
        "print(f'{y_outside.requires_grad=}')"
      ],
      "execution_count": 44,
      "outputs": [
        {
          "output_type": "stream",
          "name": "stdout",
          "text": [
            "y.requires_grad=False\n",
            "y_outside.requires_grad=True\n"
          ]
        }
      ]
    }
  ]
}