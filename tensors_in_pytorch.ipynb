{
  "nbformat": 4,
  "nbformat_minor": 0,
  "metadata": {
    "colab": {
      "provenance": [],
      "gpuType": "T4",
      "authorship_tag": "ABX9TyPHsgP9JZn4OdpguoFbErqO",
      "include_colab_link": true
    },
    "kernelspec": {
      "name": "python3",
      "display_name": "Python 3"
    },
    "language_info": {
      "name": "python"
    },
    "accelerator": "GPU"
  },
  "cells": [
    {
      "cell_type": "markdown",
      "metadata": {
        "id": "view-in-github",
        "colab_type": "text"
      },
      "source": [
        "<a href=\"https://colab.research.google.com/github/DARKINOO/Pytorch_practice/blob/main/tensors_in_pytorch.ipynb\" target=\"_parent\"><img src=\"https://colab.research.google.com/assets/colab-badge.svg\" alt=\"Open In Colab\"/></a>"
      ]
    },
    {
      "cell_type": "code",
      "execution_count": null,
      "metadata": {
        "colab": {
          "base_uri": "https://localhost:8080/"
        },
        "id": "pWEuW1rqDDxY",
        "outputId": "c6945121-e191-4e6b-d04d-61364c31c93c"
      },
      "outputs": [
        {
          "output_type": "stream",
          "name": "stdout",
          "text": [
            "2.8.0+cu126\n"
          ]
        }
      ],
      "source": [
        "import torch\n",
        "print(torch.__version__)"
      ]
    },
    {
      "cell_type": "code",
      "source": [
        "if torch.cuda.is_available():\n",
        "  print(\"GPU is available\")\n",
        "  print(f\"Using GPU : {torch.cuda.get_device_name(0)}\")\n",
        "else:\n",
        "  print(\"GPU not available. Using CPU\")"
      ],
      "metadata": {
        "colab": {
          "base_uri": "https://localhost:8080/"
        },
        "id": "LyplMtwVDctm",
        "outputId": "9194898c-b40c-4210-f347-844ae4c7b1ee"
      },
      "execution_count": null,
      "outputs": [
        {
          "output_type": "stream",
          "name": "stdout",
          "text": [
            "GPU is available\n",
            "Using GPU : Tesla T4\n"
          ]
        }
      ]
    },
    {
      "cell_type": "markdown",
      "source": [
        "###Creating a Tensor"
      ],
      "metadata": {
        "id": "UsRLFAMgEEO9"
      }
    },
    {
      "cell_type": "code",
      "source": [
        "# using empty\n",
        "a = torch.empty(2,3) #here values will be empty"
      ],
      "metadata": {
        "id": "yb1zRFd7D0NW"
      },
      "execution_count": null,
      "outputs": []
    },
    {
      "cell_type": "code",
      "source": [
        "# Check type\n",
        "type(a)"
      ],
      "metadata": {
        "colab": {
          "base_uri": "https://localhost:8080/"
        },
        "id": "iJs2aY5SFF58",
        "outputId": "61de0514-ebc9-4b9e-f342-033c377dae9a"
      },
      "execution_count": null,
      "outputs": [
        {
          "output_type": "execute_result",
          "data": {
            "text/plain": [
              "torch.Tensor"
            ]
          },
          "metadata": {},
          "execution_count": 8
        }
      ]
    },
    {
      "cell_type": "code",
      "source": [
        "# using zeros\n",
        "torch.zeros(2,3) #here values will initialize with zeroes"
      ],
      "metadata": {
        "colab": {
          "base_uri": "https://localhost:8080/"
        },
        "id": "bEDnjoUkFMQ7",
        "outputId": "faa49829-96a7-4963-8a53-86cff173fcbb"
      },
      "execution_count": null,
      "outputs": [
        {
          "output_type": "execute_result",
          "data": {
            "text/plain": [
              "tensor([[0., 0., 0.],\n",
              "        [0., 0., 0.]])"
            ]
          },
          "metadata": {},
          "execution_count": 9
        }
      ]
    },
    {
      "cell_type": "code",
      "source": [
        "# using ones\n",
        "torch.ones(2,3) #initializes with ones"
      ],
      "metadata": {
        "colab": {
          "base_uri": "https://localhost:8080/"
        },
        "id": "nPlBiIGfFRod",
        "outputId": "0e2e74ce-40c1-4490-8a70-f1351218068a"
      },
      "execution_count": null,
      "outputs": [
        {
          "output_type": "execute_result",
          "data": {
            "text/plain": [
              "tensor([[1., 1., 1.],\n",
              "        [1., 1., 1.]])"
            ]
          },
          "metadata": {},
          "execution_count": 10
        }
      ]
    },
    {
      "cell_type": "code",
      "source": [
        "#using rand\n",
        "torch.rand(2,3) #any random value btw 0 and 1 , always diff"
      ],
      "metadata": {
        "colab": {
          "base_uri": "https://localhost:8080/"
        },
        "id": "K0bIZqc3Fig4",
        "outputId": "37d8e8fc-5d5c-46a3-f7ff-476ddfd54561"
      },
      "execution_count": null,
      "outputs": [
        {
          "output_type": "execute_result",
          "data": {
            "text/plain": [
              "tensor([[0.9315, 0.8432, 0.5411],\n",
              "        [0.6900, 0.9283, 0.1815]])"
            ]
          },
          "metadata": {},
          "execution_count": 11
        }
      ]
    },
    {
      "cell_type": "code",
      "source": [
        "#use of seed\n",
        "torch.manual_seed(100) #those randpm values persists not chnaqges everytime i run code\n",
        "torch.rand(2,3)"
      ],
      "metadata": {
        "colab": {
          "base_uri": "https://localhost:8080/"
        },
        "id": "CswvfLsaFrw8",
        "outputId": "f96637f2-dfc0-4962-91c7-91129ec79481"
      },
      "execution_count": null,
      "outputs": [
        {
          "output_type": "execute_result",
          "data": {
            "text/plain": [
              "tensor([[0.1117, 0.8158, 0.2626],\n",
              "        [0.4839, 0.6765, 0.7539]])"
            ]
          },
          "metadata": {},
          "execution_count": 12
        }
      ]
    },
    {
      "cell_type": "code",
      "source": [
        "# using tensor\n",
        "torch.tensor([[1,2,3],[4,5,6]]) #we can initialize"
      ],
      "metadata": {
        "colab": {
          "base_uri": "https://localhost:8080/"
        },
        "id": "jUGxTpZYGFgF",
        "outputId": "d5a23170-21f1-4aa9-b3b1-55b76af851ef"
      },
      "execution_count": null,
      "outputs": [
        {
          "output_type": "execute_result",
          "data": {
            "text/plain": [
              "tensor([[1, 2, 3],\n",
              "        [4, 5, 6]])"
            ]
          },
          "metadata": {},
          "execution_count": 13
        }
      ]
    },
    {
      "cell_type": "code",
      "source": [
        "# other ways\n",
        "#arange\n",
        "print(\"using arange ->\", torch.arange(0,10))\n",
        "\n",
        "#using linspace\n",
        "print(\"using linspace ->\", torch.linspace(0,10,10))\n",
        "\n",
        "#using eye\n",
        "print(\"using eye ->\", torch.eye(5))\n",
        "\n",
        "#using full\n",
        "print(\"using full ->\", torch.full((3,3),5))"
      ],
      "metadata": {
        "colab": {
          "base_uri": "https://localhost:8080/"
        },
        "id": "FFEcNoYTGUmF",
        "outputId": "52d5cdc7-35cb-4f46-ae3e-0cdfe7f055d0"
      },
      "execution_count": null,
      "outputs": [
        {
          "output_type": "stream",
          "name": "stdout",
          "text": [
            "using arange -> tensor([0, 1, 2, 3, 4, 5, 6, 7, 8, 9])\n",
            "using linspace -> tensor([ 0.0000,  1.1111,  2.2222,  3.3333,  4.4444,  5.5556,  6.6667,  7.7778,\n",
            "         8.8889, 10.0000])\n",
            "using eye -> tensor([[1., 0., 0., 0., 0.],\n",
            "        [0., 1., 0., 0., 0.],\n",
            "        [0., 0., 1., 0., 0.],\n",
            "        [0., 0., 0., 1., 0.],\n",
            "        [0., 0., 0., 0., 1.]])\n",
            "using full -> tensor([[5, 5, 5],\n",
            "        [5, 5, 5],\n",
            "        [5, 5, 5]])\n"
          ]
        }
      ]
    },
    {
      "cell_type": "markdown",
      "source": [
        "###Tensor Shapes"
      ],
      "metadata": {
        "id": "vw_JE97wHDPr"
      }
    },
    {
      "cell_type": "code",
      "source": [
        "x = torch.tensor([[1,2,3],[4,5,6]])\n",
        "x"
      ],
      "metadata": {
        "colab": {
          "base_uri": "https://localhost:8080/"
        },
        "id": "rgWfq7CpHJyt",
        "outputId": "054db63a-3160-4af2-e317-365ca3b2e18a"
      },
      "execution_count": null,
      "outputs": [
        {
          "output_type": "execute_result",
          "data": {
            "text/plain": [
              "tensor([[1, 2, 3],\n",
              "        [4, 5, 6]])"
            ]
          },
          "metadata": {},
          "execution_count": 15
        }
      ]
    },
    {
      "cell_type": "code",
      "source": [
        "x.shape"
      ],
      "metadata": {
        "colab": {
          "base_uri": "https://localhost:8080/"
        },
        "id": "5Alp8MaYHTqW",
        "outputId": "a75fb2c0-54ae-42fb-b758-3c473d7e9339"
      },
      "execution_count": null,
      "outputs": [
        {
          "output_type": "execute_result",
          "data": {
            "text/plain": [
              "torch.Size([2, 3])"
            ]
          },
          "metadata": {},
          "execution_count": 16
        }
      ]
    },
    {
      "cell_type": "code",
      "source": [
        "torch.empty_like(x) #gives new tensor with same shape as of x"
      ],
      "metadata": {
        "colab": {
          "base_uri": "https://localhost:8080/"
        },
        "id": "abDAd3yuHWZM",
        "outputId": "10afd5f8-4b38-4f3e-ddeb-05bfc4f832e0"
      },
      "execution_count": null,
      "outputs": [
        {
          "output_type": "execute_result",
          "data": {
            "text/plain": [
              "tensor([[     1097010992, 135008250304128,               1],\n",
              "        [              6,               0,               0]])"
            ]
          },
          "metadata": {},
          "execution_count": 17
        }
      ]
    },
    {
      "cell_type": "code",
      "source": [
        "torch.zeros_like(x) #new tensor with 0 values same shape as x"
      ],
      "metadata": {
        "colab": {
          "base_uri": "https://localhost:8080/"
        },
        "id": "4Gju7Ba5Hfjr",
        "outputId": "77e19e73-6632-49bf-8005-3af6b718aa87"
      },
      "execution_count": null,
      "outputs": [
        {
          "output_type": "execute_result",
          "data": {
            "text/plain": [
              "tensor([[0, 0, 0],\n",
              "        [0, 0, 0]])"
            ]
          },
          "metadata": {},
          "execution_count": 18
        }
      ]
    },
    {
      "cell_type": "code",
      "source": [
        "torch.ones_like(x)"
      ],
      "metadata": {
        "colab": {
          "base_uri": "https://localhost:8080/"
        },
        "id": "PWivuXftHoA9",
        "outputId": "638a0868-d755-4a89-e5ff-09557db1e2a6"
      },
      "execution_count": null,
      "outputs": [
        {
          "output_type": "execute_result",
          "data": {
            "text/plain": [
              "tensor([[1, 1, 1],\n",
              "        [1, 1, 1]])"
            ]
          },
          "metadata": {},
          "execution_count": 19
        }
      ]
    },
    {
      "cell_type": "code",
      "source": [
        "#torch.rand_like(x) #this code will not work coz its genrate float datat type and our tensor is in int\n",
        "torch.rand_like(x, dtype=torch.float32)"
      ],
      "metadata": {
        "colab": {
          "base_uri": "https://localhost:8080/"
        },
        "id": "KlnvaEMxHr0F",
        "outputId": "8c1e04ac-1f76-4c92-92f3-d03a51570a58"
      },
      "execution_count": null,
      "outputs": [
        {
          "output_type": "execute_result",
          "data": {
            "text/plain": [
              "tensor([[0.2627, 0.0428, 0.2080],\n",
              "        [0.1180, 0.1217, 0.7356]])"
            ]
          },
          "metadata": {},
          "execution_count": 20
        }
      ]
    },
    {
      "cell_type": "markdown",
      "source": [
        "###Tensor Data Types"
      ],
      "metadata": {
        "id": "aI9cDS9NH9kc"
      }
    },
    {
      "cell_type": "code",
      "source": [
        "# find data type\n",
        "x.dtype"
      ],
      "metadata": {
        "colab": {
          "base_uri": "https://localhost:8080/"
        },
        "id": "G5FEGsoDH7Ht",
        "outputId": "f0a265a7-b9ea-4f91-b4c6-6d778cf6ddcd"
      },
      "execution_count": null,
      "outputs": [
        {
          "output_type": "execute_result",
          "data": {
            "text/plain": [
              "torch.int64"
            ]
          },
          "metadata": {},
          "execution_count": 21
        }
      ]
    },
    {
      "cell_type": "code",
      "source": [
        "#assign data type\n",
        "torch.tensor([1.0,2.0,3.0], dtype=torch.int32)"
      ],
      "metadata": {
        "colab": {
          "base_uri": "https://localhost:8080/"
        },
        "id": "qWi5i91pIGAs",
        "outputId": "2ac82574-0cfd-42f2-d137-dc03689e60ae"
      },
      "execution_count": null,
      "outputs": [
        {
          "output_type": "execute_result",
          "data": {
            "text/plain": [
              "tensor([1, 2, 3], dtype=torch.int32)"
            ]
          },
          "metadata": {},
          "execution_count": 22
        }
      ]
    },
    {
      "cell_type": "code",
      "source": [
        "torch.tensor([1,2,3], dtype=torch.float32)"
      ],
      "metadata": {
        "colab": {
          "base_uri": "https://localhost:8080/"
        },
        "id": "VzOPtEwQIUI-",
        "outputId": "358a0d32-3df4-498c-eb89-d7556bac53c2"
      },
      "execution_count": null,
      "outputs": [
        {
          "output_type": "execute_result",
          "data": {
            "text/plain": [
              "tensor([1., 2., 3.])"
            ]
          },
          "metadata": {},
          "execution_count": 23
        }
      ]
    },
    {
      "cell_type": "markdown",
      "source": [
        "###Tensor Mathematical operations"
      ],
      "metadata": {
        "id": "LDICV0xWcFVt"
      }
    },
    {
      "cell_type": "code",
      "source": [
        "##addition\n",
        "x = torch.tensor([[1,2,3],[4,5,6]])\n",
        "x + 3\n",
        "## subtraction\n",
        "x - 2\n",
        "## multiplication\n",
        "x * 3\n",
        "## int division\n",
        "(x*1000)//3\n",
        "# mod\n",
        "((x*1000)//3)%2"
      ],
      "metadata": {
        "id": "yH4j5aOwIcQ8",
        "colab": {
          "base_uri": "https://localhost:8080/"
        },
        "outputId": "93241ea2-4a4e-4801-e006-d7f763dd50d6"
      },
      "execution_count": null,
      "outputs": [
        {
          "output_type": "execute_result",
          "data": {
            "text/plain": [
              "tensor([[1, 0, 0],\n",
              "        [1, 0, 0]])"
            ]
          },
          "metadata": {},
          "execution_count": 28
        }
      ]
    },
    {
      "cell_type": "code",
      "source": [
        "a = torch.rand(2,3)\n",
        "b = torch.rand(2,3)\n",
        "print(a)\n",
        "print(b)"
      ],
      "metadata": {
        "colab": {
          "base_uri": "https://localhost:8080/"
        },
        "id": "WgVDfHYfdhgK",
        "outputId": "3ae70182-2bbf-46d4-b1aa-bd29bc02d13e"
      },
      "execution_count": null,
      "outputs": [
        {
          "output_type": "stream",
          "name": "stdout",
          "text": [
            "tensor([[0.7118, 0.7876, 0.4183],\n",
            "        [0.9014, 0.9969, 0.7565]])\n",
            "tensor([[0.2239, 0.3023, 0.1784],\n",
            "        [0.8238, 0.5557, 0.9770]])\n"
          ]
        }
      ]
    },
    {
      "cell_type": "code",
      "source": [
        "#ALL element wise operations\n",
        "#add\n",
        "a+b\n",
        "#subtract\n",
        "a-b\n",
        "#multiply\n",
        "a*b\n",
        "#division\n",
        "a/b"
      ],
      "metadata": {
        "colab": {
          "base_uri": "https://localhost:8080/"
        },
        "id": "Eyg3jtWSdsKA",
        "outputId": "4f75b48f-e616-4b41-b2d3-cfbc2dc55409"
      },
      "execution_count": null,
      "outputs": [
        {
          "output_type": "execute_result",
          "data": {
            "text/plain": [
              "tensor([[3.1790, 2.6049, 2.3445],\n",
              "        [1.0942, 1.7938, 0.7743]])"
            ]
          },
          "metadata": {},
          "execution_count": 34
        }
      ]
    },
    {
      "cell_type": "code",
      "source": [
        "c = torch.tensor([1.9,2.3,3.3,4.4])\n",
        "torch.abs(c)\n",
        "torch.neg(c)\n"
      ],
      "metadata": {
        "colab": {
          "base_uri": "https://localhost:8080/"
        },
        "id": "pCVRtW1HemHh",
        "outputId": "1b4d9cda-5710-44f8-c53a-72139d931512"
      },
      "execution_count": null,
      "outputs": [
        {
          "output_type": "execute_result",
          "data": {
            "text/plain": [
              "tensor([-1.9000, -2.3000, -3.3000, -4.4000])"
            ]
          },
          "metadata": {},
          "execution_count": 36
        }
      ]
    },
    {
      "cell_type": "code",
      "source": [
        "torch.round(c)\n",
        "torch.ceil(c)\n",
        "torch.floor(c)"
      ],
      "metadata": {
        "colab": {
          "base_uri": "https://localhost:8080/"
        },
        "id": "69M1nsbOe5q_",
        "outputId": "45070cab-0c41-4d54-e9e9-928646421789"
      },
      "execution_count": null,
      "outputs": [
        {
          "output_type": "execute_result",
          "data": {
            "text/plain": [
              "tensor([1., 2., 3., 4.])"
            ]
          },
          "metadata": {},
          "execution_count": 40
        }
      ]
    },
    {
      "cell_type": "code",
      "source": [
        "#Clamp\n",
        "torch.clamp(c,min=2,max=3)"
      ],
      "metadata": {
        "colab": {
          "base_uri": "https://localhost:8080/"
        },
        "id": "wxhuBl6EfLQJ",
        "outputId": "40418771-55bf-46e4-a115-6e55917a2a78"
      },
      "execution_count": null,
      "outputs": [
        {
          "output_type": "execute_result",
          "data": {
            "text/plain": [
              "tensor([2.0000, 2.3000, 3.0000, 3.0000])"
            ]
          },
          "metadata": {},
          "execution_count": 41
        }
      ]
    },
    {
      "cell_type": "markdown",
      "source": [
        "###Reduction operations"
      ],
      "metadata": {
        "id": "4IfQroYIfYv7"
      }
    },
    {
      "cell_type": "code",
      "source": [
        "e = torch.randint(size=(2,3),low=0,high=10,dtype=torch.float32)\n",
        "e"
      ],
      "metadata": {
        "colab": {
          "base_uri": "https://localhost:8080/"
        },
        "id": "26RNfw_5fTtR",
        "outputId": "b0a9c593-23c4-4f20-cc98-ecb5dfceacf6"
      },
      "execution_count": null,
      "outputs": [
        {
          "output_type": "execute_result",
          "data": {
            "text/plain": [
              "tensor([[5., 9., 9.],\n",
              "        [7., 5., 9.]])"
            ]
          },
          "metadata": {},
          "execution_count": 52
        }
      ]
    },
    {
      "cell_type": "code",
      "source": [
        "#sum\n",
        "print(torch.sum(e)) #gives sum of whole matrix\n",
        "print(torch.sum(e,dim=0)) #sum along columns\n",
        "print(torch.sum(e,dim=1)) #sum along rows\n",
        "\n",
        "#mean\n",
        "print(torch.mean(e)) #mean of whole\n",
        "print(torch.mean(e,dim=0)) #mean of col\n",
        "\n",
        "#median\n",
        "print(torch.median(e)) #median of whole\n",
        "\n",
        "#max & min\n",
        "print(torch.max(e)) #max of whole\n",
        "print(torch.min(e)) #min of whole\n",
        "\n",
        "#product\n",
        "print(torch.prod(e)) # of whole\n",
        "\n",
        "#std and variance\n",
        "print(torch.std(e))\n",
        "print(torch.var(e))\n",
        "\n",
        "#argmax - return position of max elem\n",
        "print(torch.argmax(e))\n",
        "\n",
        "#argmin - return position of min elem\n",
        "print(torch.argmin(e))"
      ],
      "metadata": {
        "colab": {
          "base_uri": "https://localhost:8080/"
        },
        "id": "4y_kgJOafkMQ",
        "outputId": "87b369ef-31b9-4a09-a348-11b5f6de1e18"
      },
      "execution_count": null,
      "outputs": [
        {
          "output_type": "stream",
          "name": "stdout",
          "text": [
            "tensor(44.)\n",
            "tensor([12., 14., 18.])\n",
            "tensor([23., 21.])\n",
            "tensor(7.3333)\n",
            "tensor([6., 7., 9.])\n",
            "tensor(7.)\n",
            "tensor(9.)\n",
            "tensor(5.)\n",
            "tensor(127575.)\n",
            "tensor(1.9664)\n",
            "tensor(3.8667)\n",
            "tensor(1)\n",
            "tensor(0)\n"
          ]
        }
      ]
    },
    {
      "cell_type": "markdown",
      "source": [
        "###Matrix Operations"
      ],
      "metadata": {
        "id": "3ST4WF0pkMD7"
      }
    },
    {
      "cell_type": "code",
      "source": [
        "f = torch.randint(size=(2,3), low=0,high=10)\n",
        "g = torch.randint(size=(3,2), low=0,high=10)\n",
        "\n",
        "print(f)\n",
        "print(g)"
      ],
      "metadata": {
        "id": "y45UvyJtfv8_",
        "colab": {
          "base_uri": "https://localhost:8080/"
        },
        "outputId": "24075bbc-3acc-415c-b570-ab562aff92f7"
      },
      "execution_count": null,
      "outputs": [
        {
          "output_type": "stream",
          "name": "stdout",
          "text": [
            "tensor([[8, 9, 7],\n",
            "        [9, 2, 6]])\n",
            "tensor([[7, 7],\n",
            "        [8, 3],\n",
            "        [6, 1]])\n"
          ]
        }
      ]
    },
    {
      "cell_type": "code",
      "source": [
        "#matrix multiplication\n",
        "torch.matmul(f,g)"
      ],
      "metadata": {
        "colab": {
          "base_uri": "https://localhost:8080/"
        },
        "id": "Cpi17vBHkh_K",
        "outputId": "b324beab-6185-4095-b031-3baaf87107ed"
      },
      "execution_count": null,
      "outputs": [
        {
          "output_type": "execute_result",
          "data": {
            "text/plain": [
              "tensor([[170,  90],\n",
              "        [115,  75]])"
            ]
          },
          "metadata": {},
          "execution_count": 62
        }
      ]
    },
    {
      "cell_type": "code",
      "source": [
        "vector1 = torch.tensor([1,2])\n",
        "vector2 = torch.tensor([3,4])\n",
        "\n",
        "#dot product\n",
        "torch.dot(vector1,vector2)"
      ],
      "metadata": {
        "colab": {
          "base_uri": "https://localhost:8080/"
        },
        "id": "wuuNYqO4kp1w",
        "outputId": "d4b58a29-2cee-43d6-c5ec-0c7bb512da1f"
      },
      "execution_count": null,
      "outputs": [
        {
          "output_type": "execute_result",
          "data": {
            "text/plain": [
              "tensor(11)"
            ]
          },
          "metadata": {},
          "execution_count": 64
        }
      ]
    },
    {
      "cell_type": "code",
      "source": [
        "#transpose\n",
        "torch.transpose(f,0,1)\n"
      ],
      "metadata": {
        "colab": {
          "base_uri": "https://localhost:8080/"
        },
        "id": "nC5d2IkCljfA",
        "outputId": "bcddbd01-5d08-4220-c452-cfb56f182e53"
      },
      "execution_count": null,
      "outputs": [
        {
          "output_type": "execute_result",
          "data": {
            "text/plain": [
              "tensor([[8, 9],\n",
              "        [9, 2],\n",
              "        [7, 6]])"
            ]
          },
          "metadata": {},
          "execution_count": 66
        }
      ]
    },
    {
      "cell_type": "code",
      "source": [
        "h = torch.randint(size=(3,3),low=0,high=10,dtype=torch.float32)\n",
        "print(h)\n",
        "\n",
        "#determinant\n",
        "print(torch.det(h))\n",
        "\n",
        "#inverse\n",
        "print(torch.inverse(h))\n"
      ],
      "metadata": {
        "colab": {
          "base_uri": "https://localhost:8080/"
        },
        "id": "oPv7dB7plvzg",
        "outputId": "b05fbe2a-e9ea-4ed8-9c32-0b79d5fd2560"
      },
      "execution_count": null,
      "outputs": [
        {
          "output_type": "stream",
          "name": "stdout",
          "text": [
            "tensor([[3., 8., 5.],\n",
            "        [6., 2., 9.],\n",
            "        [5., 0., 4.]])\n",
            "tensor(142.)\n",
            "tensor([[ 0.0563, -0.2254,  0.4366],\n",
            "        [ 0.1479, -0.0915,  0.0211],\n",
            "        [-0.0704,  0.2817, -0.2958]])\n"
          ]
        }
      ]
    },
    {
      "cell_type": "markdown",
      "source": [
        "###Special fxns"
      ],
      "metadata": {
        "id": "wUX3eHpamjDQ"
      }
    },
    {
      "cell_type": "code",
      "source": [
        "k = torch.randint(size=(2,3),low=0,high=10,dtype=torch.float32)\n",
        "k"
      ],
      "metadata": {
        "colab": {
          "base_uri": "https://localhost:8080/"
        },
        "id": "hbvBNuTQmkk3",
        "outputId": "2ed230f7-8151-46a5-e8f5-594ce9dc5843"
      },
      "execution_count": null,
      "outputs": [
        {
          "output_type": "execute_result",
          "data": {
            "text/plain": [
              "tensor([[4., 1., 1.],\n",
              "        [2., 4., 7.]])"
            ]
          },
          "metadata": {},
          "execution_count": 77
        }
      ]
    },
    {
      "cell_type": "code",
      "source": [
        "#log\n",
        "print(torch.log(k))\n",
        "\n",
        "#exponents\n",
        "print(torch.exp(k))\n",
        "\n",
        "#sqrt\n",
        "print(torch.sqrt(k))\n",
        "\n",
        "#sigmoid\n",
        "print(torch.sigmoid(k))\n",
        "\n",
        "#softmax\n",
        "print(torch.softmax(k,dim=0))\n",
        "\n",
        "#relu\n",
        "print(torch.relu(k))"
      ],
      "metadata": {
        "colab": {
          "base_uri": "https://localhost:8080/"
        },
        "id": "OGy45DeWmr8A",
        "outputId": "ad2ae8dd-c5f8-4d86-b450-432823e9f3f8"
      },
      "execution_count": null,
      "outputs": [
        {
          "output_type": "stream",
          "name": "stdout",
          "text": [
            "tensor([[1.3863, 0.0000, 0.0000],\n",
            "        [0.6931, 1.3863, 1.9459]])\n",
            "tensor([[  54.5981,    2.7183,    2.7183],\n",
            "        [   7.3891,   54.5981, 1096.6332]])\n",
            "tensor([[2.0000, 1.0000, 1.0000],\n",
            "        [1.4142, 2.0000, 2.6458]])\n",
            "tensor([[0.9820, 0.7311, 0.7311],\n",
            "        [0.8808, 0.9820, 0.9991]])\n",
            "tensor([[0.8808, 0.0474, 0.0025],\n",
            "        [0.1192, 0.9526, 0.9975]])\n",
            "tensor([[4., 1., 1.],\n",
            "        [2., 4., 7.]])\n"
          ]
        }
      ]
    },
    {
      "cell_type": "markdown",
      "source": [
        "###Inplace Opertaions"
      ],
      "metadata": {
        "id": "64kHc-wCof78"
      }
    },
    {
      "cell_type": "code",
      "source": [
        "m = torch.rand(2,3)\n",
        "n = torch.rand(2,3)\n",
        "\n",
        "print(m)\n",
        "print(n)\n",
        "#print(m+n) #here it is creating new tensor , which is not optimal for space\n",
        "#so we write\n",
        "m.add_(n)\n",
        "print(m)"
      ],
      "metadata": {
        "colab": {
          "base_uri": "https://localhost:8080/"
        },
        "id": "F_mKzgv5okRq",
        "outputId": "aa3d1405-f94a-4f3d-e516-1447b18e2177"
      },
      "execution_count": null,
      "outputs": [
        {
          "output_type": "stream",
          "name": "stdout",
          "text": [
            "tensor([[0.4890, 0.5887, 0.7340],\n",
            "        [0.8497, 0.9112, 0.4847]])\n",
            "tensor([[0.9436, 0.3904, 0.2499],\n",
            "        [0.3206, 0.9753, 0.7582]])\n",
            "tensor([[1.4325, 0.9792, 0.9839],\n",
            "        [1.1703, 1.8865, 1.2429]])\n"
          ]
        }
      ]
    },
    {
      "cell_type": "markdown",
      "source": [
        "###Copying a tensor"
      ],
      "metadata": {
        "id": "nsWiat6Erich"
      }
    },
    {
      "cell_type": "code",
      "source": [
        "p = torch.rand(2,3)\n",
        "p"
      ],
      "metadata": {
        "colab": {
          "base_uri": "https://localhost:8080/"
        },
        "id": "Ceu4yr9NrQbZ",
        "outputId": "153663ca-c341-4ddb-d145-e72b1a1b7793"
      },
      "execution_count": null,
      "outputs": [
        {
          "output_type": "execute_result",
          "data": {
            "text/plain": [
              "tensor([[0.6688, 0.2651, 0.2336],\n",
              "        [0.5057, 0.5688, 0.0634]])"
            ]
          },
          "metadata": {},
          "execution_count": 82
        }
      ]
    },
    {
      "cell_type": "code",
      "source": [
        "#q = p #but in this method , here it refeerences a , not copy\n",
        "q = p.clone() #here it makes copy\n",
        "print(q)"
      ],
      "metadata": {
        "colab": {
          "base_uri": "https://localhost:8080/"
        },
        "id": "B9_IQkOwrrMC",
        "outputId": "25d9c1c0-1c2f-404a-b52c-ca6f4a64e1b8"
      },
      "execution_count": null,
      "outputs": [
        {
          "output_type": "stream",
          "name": "stdout",
          "text": [
            "tensor([[0.6688, 0.2651, 0.2336],\n",
            "        [0.5057, 0.5688, 0.0634]])\n"
          ]
        }
      ]
    },
    {
      "cell_type": "markdown",
      "source": [
        "###Tensor Operations on GPU"
      ],
      "metadata": {
        "id": "-iU3rNe1tGzt"
      }
    },
    {
      "cell_type": "code",
      "source": [
        "torch.cuda.is_available()"
      ],
      "metadata": {
        "colab": {
          "base_uri": "https://localhost:8080/"
        },
        "id": "WjO5cZidtKov",
        "outputId": "104c531d-bc4c-4d23-8425-407aabfb6951"
      },
      "execution_count": null,
      "outputs": [
        {
          "output_type": "execute_result",
          "data": {
            "text/plain": [
              "True"
            ]
          },
          "metadata": {},
          "execution_count": 88
        }
      ]
    },
    {
      "cell_type": "code",
      "source": [
        "device = torch.device('cuda')"
      ],
      "metadata": {
        "id": "ljMSBd8dvSRn"
      },
      "execution_count": null,
      "outputs": []
    },
    {
      "cell_type": "code",
      "source": [
        "#creating a new tensor on GPU\n",
        "torch.rand((2,3),device=device)"
      ],
      "metadata": {
        "colab": {
          "base_uri": "https://localhost:8080/"
        },
        "id": "i4gcpGczvWrf",
        "outputId": "80bfab0f-250b-4be8-8825-0fc7f32d0cef"
      },
      "execution_count": null,
      "outputs": [
        {
          "output_type": "execute_result",
          "data": {
            "text/plain": [
              "tensor([[0.3563, 0.0303, 0.7088],\n",
              "        [0.2009, 0.0224, 0.9896]], device='cuda:0')"
            ]
          },
          "metadata": {},
          "execution_count": 90
        }
      ]
    },
    {
      "cell_type": "code",
      "source": [
        "#move an existing tensor to GPU\n",
        "z = torch.rand(2,3)\n",
        "z"
      ],
      "metadata": {
        "colab": {
          "base_uri": "https://localhost:8080/"
        },
        "id": "JYk-JxaRwUc4",
        "outputId": "ed45ff78-58a3-40c2-fd92-2cc4215718bb"
      },
      "execution_count": null,
      "outputs": [
        {
          "output_type": "execute_result",
          "data": {
            "text/plain": [
              "tensor([[0.8993, 0.2732, 0.3397],\n",
              "        [0.1879, 0.5534, 0.2682]])"
            ]
          },
          "metadata": {},
          "execution_count": 91
        }
      ]
    },
    {
      "cell_type": "code",
      "source": [
        "b = z.to(device) #goes on GPU\n",
        "b+5 # perform on GPU"
      ],
      "metadata": {
        "colab": {
          "base_uri": "https://localhost:8080/"
        },
        "id": "VVa3OGbowihg",
        "outputId": "5a96d19a-6eb3-4df6-d13b-93e2a4d25815"
      },
      "execution_count": null,
      "outputs": [
        {
          "output_type": "execute_result",
          "data": {
            "text/plain": [
              "tensor([[5.8993, 5.2732, 5.3397],\n",
              "        [5.1879, 5.5534, 5.2682]], device='cuda:0')"
            ]
          },
          "metadata": {},
          "execution_count": 92
        }
      ]
    },
    {
      "cell_type": "markdown",
      "source": [
        "###Reshaping Tensors"
      ],
      "metadata": {
        "id": "gyz0Q5sexBgx"
      }
    },
    {
      "cell_type": "code",
      "source": [
        "a = torch.ones(4,4)\n",
        "a"
      ],
      "metadata": {
        "colab": {
          "base_uri": "https://localhost:8080/"
        },
        "id": "YYgMo6bdxFCP",
        "outputId": "67b593a0-7f39-4312-b6aa-908b8e9b3b1b"
      },
      "execution_count": null,
      "outputs": [
        {
          "output_type": "execute_result",
          "data": {
            "text/plain": [
              "tensor([[1., 1., 1., 1.],\n",
              "        [1., 1., 1., 1.],\n",
              "        [1., 1., 1., 1.],\n",
              "        [1., 1., 1., 1.]])"
            ]
          },
          "metadata": {},
          "execution_count": 93
        }
      ]
    },
    {
      "cell_type": "code",
      "source": [
        "#reshape\n",
        "a.reshape(2,2,2,2)"
      ],
      "metadata": {
        "colab": {
          "base_uri": "https://localhost:8080/"
        },
        "id": "JRV2tttpxIA3",
        "outputId": "86ea3477-fb34-460b-8c28-1943c2f445b6"
      },
      "execution_count": null,
      "outputs": [
        {
          "output_type": "execute_result",
          "data": {
            "text/plain": [
              "tensor([[[[1., 1.],\n",
              "          [1., 1.]],\n",
              "\n",
              "         [[1., 1.],\n",
              "          [1., 1.]]],\n",
              "\n",
              "\n",
              "        [[[1., 1.],\n",
              "          [1., 1.]],\n",
              "\n",
              "         [[1., 1.],\n",
              "          [1., 1.]]]])"
            ]
          },
          "metadata": {},
          "execution_count": 94
        }
      ]
    },
    {
      "cell_type": "code",
      "source": [
        "#flatten - gives 1-d\n",
        "a.flatten()"
      ],
      "metadata": {
        "colab": {
          "base_uri": "https://localhost:8080/"
        },
        "id": "bvI5UCYMxRKf",
        "outputId": "f3f201d1-2184-433c-e59f-dee90168162e"
      },
      "execution_count": null,
      "outputs": [
        {
          "output_type": "execute_result",
          "data": {
            "text/plain": [
              "tensor([1., 1., 1., 1., 1., 1., 1., 1., 1., 1., 1., 1., 1., 1., 1., 1.])"
            ]
          },
          "metadata": {},
          "execution_count": 95
        }
      ]
    },
    {
      "cell_type": "code",
      "source": [
        "b = torch.rand(2,3,4)\n",
        "b"
      ],
      "metadata": {
        "colab": {
          "base_uri": "https://localhost:8080/"
        },
        "id": "6qD7kEXQxXHJ",
        "outputId": "bc70c3ec-aff6-4c93-f66f-46482bf30fc6"
      },
      "execution_count": null,
      "outputs": [
        {
          "output_type": "execute_result",
          "data": {
            "text/plain": [
              "tensor([[[0.9556, 0.9761, 0.5934, 0.3124],\n",
              "         [0.9431, 0.8519, 0.9815, 0.1132],\n",
              "         [0.4783, 0.4436, 0.3847, 0.4521]],\n",
              "\n",
              "        [[0.5569, 0.9952, 0.0015, 0.0813],\n",
              "         [0.4907, 0.2130, 0.4603, 0.1386],\n",
              "         [0.0277, 0.5662, 0.3503, 0.6555]]])"
            ]
          },
          "metadata": {},
          "execution_count": 96
        }
      ]
    },
    {
      "cell_type": "code",
      "source": [
        "#permute\n",
        "b.permute(2,0,1).shape #interchange pos"
      ],
      "metadata": {
        "colab": {
          "base_uri": "https://localhost:8080/"
        },
        "id": "PLGb85a6xb9v",
        "outputId": "2b0e4a66-75ef-4915-ea38-74635a701f91"
      },
      "execution_count": null,
      "outputs": [
        {
          "output_type": "execute_result",
          "data": {
            "text/plain": [
              "torch.Size([4, 2, 3])"
            ]
          },
          "metadata": {},
          "execution_count": 97
        }
      ]
    },
    {
      "cell_type": "code",
      "source": [
        "#unsqueeze\n",
        "#image size\n",
        "c = torch.rand(226,226,3)\n",
        "c.unsqueeze(0).shape #adds new dimension to a certain position"
      ],
      "metadata": {
        "colab": {
          "base_uri": "https://localhost:8080/"
        },
        "id": "T4KO__bFxppY",
        "outputId": "eac5735b-4300-4ce1-a478-063f140f17fa"
      },
      "execution_count": null,
      "outputs": [
        {
          "output_type": "execute_result",
          "data": {
            "text/plain": [
              "torch.Size([1, 226, 226, 3])"
            ]
          },
          "metadata": {},
          "execution_count": 99
        }
      ]
    },
    {
      "cell_type": "code",
      "source": [
        "#squeeze\n",
        "c.squeeze(0).shape"
      ],
      "metadata": {
        "colab": {
          "base_uri": "https://localhost:8080/"
        },
        "id": "GzzTzIL6x4kY",
        "outputId": "a9622125-8ea9-4e6e-f678-2c4e5662d011"
      },
      "execution_count": null,
      "outputs": [
        {
          "output_type": "execute_result",
          "data": {
            "text/plain": [
              "torch.Size([226, 226, 3])"
            ]
          },
          "metadata": {},
          "execution_count": 100
        }
      ]
    },
    {
      "cell_type": "markdown",
      "source": [
        "###Numpy and Pytorch"
      ],
      "metadata": {
        "id": "cjnoLSCZzsFg"
      }
    },
    {
      "cell_type": "code",
      "source": [
        "import numpy as np"
      ],
      "metadata": {
        "id": "vaAlwMKhzwDX"
      },
      "execution_count": null,
      "outputs": []
    },
    {
      "cell_type": "code",
      "source": [
        "a = torch.tensor([1,2,3])\n",
        "a"
      ],
      "metadata": {
        "colab": {
          "base_uri": "https://localhost:8080/"
        },
        "id": "ubyESwqEzzW4",
        "outputId": "3419ecbb-ff0a-4316-c996-40e56aa67302"
      },
      "execution_count": null,
      "outputs": [
        {
          "output_type": "execute_result",
          "data": {
            "text/plain": [
              "tensor([1, 2, 3])"
            ]
          },
          "metadata": {},
          "execution_count": 102
        }
      ]
    },
    {
      "cell_type": "code",
      "source": [
        "b = a.numpy()\n",
        "b"
      ],
      "metadata": {
        "colab": {
          "base_uri": "https://localhost:8080/"
        },
        "id": "E_LgorsEz5pf",
        "outputId": "0815ba5a-80ad-489a-a08e-85a51342966e"
      },
      "execution_count": null,
      "outputs": [
        {
          "output_type": "execute_result",
          "data": {
            "text/plain": [
              "array([1, 2, 3])"
            ]
          },
          "metadata": {},
          "execution_count": 103
        }
      ]
    },
    {
      "cell_type": "code",
      "source": [
        "type(b)"
      ],
      "metadata": {
        "colab": {
          "base_uri": "https://localhost:8080/"
        },
        "id": "lhXuKpIBz8qm",
        "outputId": "df9d79ae-9cc5-414d-f809-0873ba16414d"
      },
      "execution_count": null,
      "outputs": [
        {
          "output_type": "execute_result",
          "data": {
            "text/plain": [
              "numpy.ndarray"
            ]
          },
          "metadata": {},
          "execution_count": 104
        }
      ]
    },
    {
      "cell_type": "code",
      "source": [
        "c = np.array([1,2,3])\n",
        "c"
      ],
      "metadata": {
        "colab": {
          "base_uri": "https://localhost:8080/"
        },
        "id": "_XrfmpFGz-__",
        "outputId": "48738b3a-ea29-4c6a-c883-55f85b574890"
      },
      "execution_count": null,
      "outputs": [
        {
          "output_type": "execute_result",
          "data": {
            "text/plain": [
              "array([1, 2, 3])"
            ]
          },
          "metadata": {},
          "execution_count": 105
        }
      ]
    },
    {
      "cell_type": "code",
      "source": [
        "torch.from_numpy(c)"
      ],
      "metadata": {
        "id": "LD8i-Hmi0CYn",
        "outputId": "869c5fbd-54f9-45bd-df45-0f76c8344f37",
        "colab": {
          "base_uri": "https://localhost:8080/"
        }
      },
      "execution_count": null,
      "outputs": [
        {
          "output_type": "execute_result",
          "data": {
            "text/plain": [
              "tensor([1, 2, 3])"
            ]
          },
          "metadata": {},
          "execution_count": 106
        }
      ]
    },
    {
      "cell_type": "code",
      "source": [],
      "metadata": {
        "id": "KeFwvCLf0Ex4"
      },
      "execution_count": null,
      "outputs": []
    }
  ]
}